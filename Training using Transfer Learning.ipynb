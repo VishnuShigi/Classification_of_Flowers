{
 "cells": [
  {
   "cell_type": "code",
   "execution_count": 1,
   "id": "1e7a1be0",
   "metadata": {},
   "outputs": [],
   "source": [
    "import matplotlib.pyplot as plt\n",
    "import numpy as np\n",
    "import cv2\n",
    "import os\n",
    "import PIL.Image as Image\n",
    "import tensorflow as tf\n",
    "from tensorflow import keras\n",
    "from tensorflow.keras import layers\n",
    "from tensorflow.keras.models import Sequential\n",
    "import tensorflow_hub as hub"
   ]
  },
  {
   "cell_type": "code",
   "execution_count": 15,
   "id": "f2c5f4f5",
   "metadata": {},
   "outputs": [],
   "source": [
    "IMAGE_SHAPE = (224, 224)\n",
    "\n",
    "classifier = tf.keras.Sequential([\n",
    "    hub.KerasLayer(\"https://tfhub.dev/google/tf2-preview/mobilenet_v2/classification/4\", input_shape=IMAGE_SHAPE+(3,))\n",
    "])"
   ]
  },
  {
   "cell_type": "code",
   "execution_count": 3,
   "id": "c26f3563",
   "metadata": {},
   "outputs": [
    {
     "data": {
      "text/plain": [
       "'.\\\\datasets\\\\flower_photos'"
      ]
     },
     "execution_count": 3,
     "metadata": {},
     "output_type": "execute_result"
    }
   ],
   "source": [
    "data_dir = tf.keras.utils.get_file('flower_photos', \n",
    "                                   origin=\"./datasets/flower_photos\", \n",
    "                                   cache_dir='.',\n",
    "                                   untar=False)\n",
    "data_dir"
   ]
  },
  {
   "cell_type": "code",
   "execution_count": 4,
   "id": "bc84d89c",
   "metadata": {},
   "outputs": [
    {
     "data": {
      "text/plain": [
       "WindowsPath('datasets/flower_photos')"
      ]
     },
     "execution_count": 4,
     "metadata": {},
     "output_type": "execute_result"
    }
   ],
   "source": [
    "import pathlib\n",
    "data_dir=pathlib.Path(data_dir)\n",
    "data_dir"
   ]
  },
  {
   "cell_type": "code",
   "execution_count": 5,
   "id": "0a4f1dd1",
   "metadata": {},
   "outputs": [],
   "source": [
    "flowers_image_dic={\n",
    "    'roses':list(data_dir.glob('roses/*')),\n",
    "    'daisy':list(data_dir.glob('daisy/*')),\n",
    "    'dandelion':list(data_dir.glob('dandelion/*')),\n",
    "    'sunflowers':list(data_dir.glob('sunflowers/*')),\n",
    "    'tulips':list(data_dir.glob('tulips/*'))\n",
    "}"
   ]
  },
  {
   "cell_type": "code",
   "execution_count": 6,
   "id": "bc80c9be",
   "metadata": {},
   "outputs": [],
   "source": [
    "flowers_label_dic={\n",
    "    'roses':0,\n",
    "    'tulips':4,\n",
    "    'dandelion':2,\n",
    "    'sunflowers':3,\n",
    "    'daisy':1\n",
    "}"
   ]
  },
  {
   "cell_type": "code",
   "execution_count": 7,
   "id": "38380f94",
   "metadata": {},
   "outputs": [],
   "source": [
    "x,y=[],[]\n",
    "\n",
    "for flower_name, images in flowers_image_dic.items():\n",
    "    for image in images:\n",
    "        img=cv2.imread(str(image))\n",
    "        rig=cv2.resize(img,(224,224))\n",
    "        x.append(rig)\n",
    "        y.append(flowers_label_dic[flower_name])"
   ]
  },
  {
   "cell_type": "code",
   "execution_count": 8,
   "id": "dbd5ea92",
   "metadata": {},
   "outputs": [],
   "source": [
    "x=np.array(x)\n",
    "y=np.array(y)\n",
    "from sklearn.model_selection import train_test_split\n",
    "X_train, X_test, y_train, y_test = train_test_split(x, y, random_state=0)\n",
    "X_trainsc=X_train/255\n",
    "X_testsc=X_test/255"
   ]
  },
  {
   "cell_type": "code",
   "execution_count": 16,
   "id": "e7a788f6",
   "metadata": {},
   "outputs": [
    {
     "data": {
      "text/plain": [
       "(224, 224, 3)"
      ]
     },
     "execution_count": 16,
     "metadata": {},
     "output_type": "execute_result"
    }
   ],
   "source": [
    "X_trainsc[0].shape"
   ]
  },
  {
   "cell_type": "code",
   "execution_count": 9,
   "id": "8716c727",
   "metadata": {},
   "outputs": [
    {
     "data": {
      "text/plain": [
       "array([795, 880], dtype=int64)"
      ]
     },
     "execution_count": 9,
     "metadata": {},
     "output_type": "execute_result"
    }
   ],
   "source": [
    "pred=classifier.predict(np.array([x[0],x[1]]))\n",
    "pred=np.argmax(pred,axis=1)\n",
    "pred"
   ]
  },
  {
   "cell_type": "code",
   "execution_count": 10,
   "id": "bc582289",
   "metadata": {},
   "outputs": [],
   "source": [
    "feature_extractor_model = \"https://tfhub.dev/google/tf2-preview/mobilenet_v2/feature_vector/4\"\n",
    "modelwotoplayer=hub.KerasLayer(feature_extractor_model,input_shape=(224,224,3))"
   ]
  },
  {
   "cell_type": "code",
   "execution_count": 11,
   "id": "35a65c07",
   "metadata": {
    "collapsed": true
   },
   "outputs": [
    {
     "name": "stdout",
     "output_type": "stream",
     "text": [
      "Model: \"sequential_1\"\n",
      "_________________________________________________________________\n",
      "Layer (type)                 Output Shape              Param #   \n",
      "=================================================================\n",
      "keras_layer_1 (KerasLayer)   (None, 1280)              2257984   \n",
      "_________________________________________________________________\n",
      "dense (Dense)                (None, 5)                 6405      \n",
      "=================================================================\n",
      "Total params: 2,264,389\n",
      "Trainable params: 6,405\n",
      "Non-trainable params: 2,257,984\n",
      "_________________________________________________________________\n"
     ]
    }
   ],
   "source": [
    "num_of_flowers = 5\n",
    "\n",
    "model = tf.keras.Sequential([\n",
    "  modelwotoplayer,\n",
    "  tf.keras.layers.Dense(num_of_flowers)\n",
    "])\n",
    "\n",
    "model.summary()"
   ]
  },
  {
   "cell_type": "code",
   "execution_count": 12,
   "id": "ed393897",
   "metadata": {
    "collapsed": true
   },
   "outputs": [
    {
     "name": "stdout",
     "output_type": "stream",
     "text": [
      "Epoch 1/30\n",
      "86/86 [==============================] - 57s 106ms/step - loss: 0.7804 - accuracy: 0.7133\n",
      "Epoch 2/30\n",
      "86/86 [==============================] - 7s 79ms/step - loss: 0.4082 - accuracy: 0.8579\n",
      "Epoch 3/30\n",
      "86/86 [==============================] - 7s 79ms/step - loss: 0.3178 - accuracy: 0.8975\n",
      "Epoch 4/30\n",
      "86/86 [==============================] - 7s 78ms/step - loss: 0.2655 - accuracy: 0.9204\n",
      "Epoch 5/30\n",
      "86/86 [==============================] - 7s 77ms/step - loss: 0.2311 - accuracy: 0.9310\n",
      "Epoch 6/30\n",
      "86/86 [==============================] - 7s 77ms/step - loss: 0.2006 - accuracy: 0.9379\n",
      "Epoch 7/30\n",
      "86/86 [==============================] - 7s 79ms/step - loss: 0.1788 - accuracy: 0.9539\n",
      "Epoch 8/30\n",
      "86/86 [==============================] - 7s 79ms/step - loss: 0.1557 - accuracy: 0.9633\n",
      "Epoch 9/30\n",
      "86/86 [==============================] - 7s 78ms/step - loss: 0.1412 - accuracy: 0.9658\n",
      "Epoch 10/30\n",
      "86/86 [==============================] - 7s 76ms/step - loss: 0.1313 - accuracy: 0.9680\n",
      "Epoch 11/30\n",
      "86/86 [==============================] - 8s 88ms/step - loss: 0.1171 - accuracy: 0.9746\n",
      "Epoch 12/30\n",
      "86/86 [==============================] - 7s 77ms/step - loss: 0.1069 - accuracy: 0.9786\n",
      "Epoch 13/30\n",
      "86/86 [==============================] - 7s 77ms/step - loss: 0.0965 - accuracy: 0.9836\n",
      "Epoch 14/30\n",
      "86/86 [==============================] - 7s 78ms/step - loss: 0.0885 - accuracy: 0.9887\n",
      "Epoch 15/30\n",
      "86/86 [==============================] - 7s 77ms/step - loss: 0.0796 - accuracy: 0.9891\n",
      "Epoch 16/30\n",
      "86/86 [==============================] - 7s 77ms/step - loss: 0.0735 - accuracy: 0.9916\n",
      "Epoch 17/30\n",
      "86/86 [==============================] - 7s 77ms/step - loss: 0.0694 - accuracy: 0.9927\n",
      "Epoch 18/30\n",
      "86/86 [==============================] - 7s 77ms/step - loss: 0.0626 - accuracy: 0.9945\n",
      "Epoch 19/30\n",
      "86/86 [==============================] - 7s 77ms/step - loss: 0.0586 - accuracy: 0.9960\n",
      "Epoch 20/30\n",
      "86/86 [==============================] - 7s 77ms/step - loss: 0.0538 - accuracy: 0.9964\n",
      "Epoch 21/30\n",
      "86/86 [==============================] - 7s 77ms/step - loss: 0.0500 - accuracy: 0.9967\n",
      "Epoch 22/30\n",
      "86/86 [==============================] - 7s 77ms/step - loss: 0.0468 - accuracy: 0.9978\n",
      "Epoch 23/30\n",
      "86/86 [==============================] - 7s 77ms/step - loss: 0.0433 - accuracy: 0.9982\n",
      "Epoch 24/30\n",
      "86/86 [==============================] - 7s 77ms/step - loss: 0.0406 - accuracy: 0.9985\n",
      "Epoch 25/30\n",
      "86/86 [==============================] - 8s 88ms/step - loss: 0.0379 - accuracy: 0.9982\n",
      "Epoch 26/30\n",
      "86/86 [==============================] - 7s 77ms/step - loss: 0.0357 - accuracy: 0.9993\n",
      "Epoch 27/30\n",
      "86/86 [==============================] - 7s 77ms/step - loss: 0.0330 - accuracy: 0.9985\n",
      "Epoch 28/30\n",
      "86/86 [==============================] - 7s 77ms/step - loss: 0.0317 - accuracy: 0.9993\n",
      "Epoch 29/30\n",
      "86/86 [==============================] - 7s 77ms/step - loss: 0.0294 - accuracy: 0.9996\n",
      "Epoch 30/30\n",
      "86/86 [==============================] - 7s 77ms/step - loss: 0.0282 - accuracy: 0.9996\n"
     ]
    },
    {
     "data": {
      "text/plain": [
       "<tensorflow.python.keras.callbacks.History at 0x2a246fdce50>"
      ]
     },
     "execution_count": 12,
     "metadata": {},
     "output_type": "execute_result"
    }
   ],
   "source": [
    "model.compile(optimizer='adam',\n",
    "              loss=tf.keras.losses.SparseCategoricalCrossentropy(from_logits=True),\n",
    "              metrics=['accuracy'])\n",
    "model.fit(X_trainsc, y_train, epochs=30)"
   ]
  },
  {
   "cell_type": "code",
   "execution_count": 13,
   "id": "bdfd7172",
   "metadata": {},
   "outputs": [
    {
     "name": "stdout",
     "output_type": "stream",
     "text": [
      "29/29 [==============================] - 53s 205ms/step - loss: 0.3903 - accuracy: 0.8682\n"
     ]
    },
    {
     "data": {
      "text/plain": [
       "[0.3903443515300751, 0.8681917190551758]"
      ]
     },
     "execution_count": 13,
     "metadata": {},
     "output_type": "execute_result"
    }
   ],
   "source": [
    "model.evaluate(X_testsc,y_test)"
   ]
  },
  {
   "cell_type": "code",
   "execution_count": null,
   "id": "784e4806",
   "metadata": {},
   "outputs": [],
   "source": []
  }
 ],
 "metadata": {
  "kernelspec": {
   "display_name": "Python 3",
   "language": "python",
   "name": "python3"
  },
  "language_info": {
   "codemirror_mode": {
    "name": "ipython",
    "version": 3
   },
   "file_extension": ".py",
   "mimetype": "text/x-python",
   "name": "python",
   "nbconvert_exporter": "python",
   "pygments_lexer": "ipython3",
   "version": "3.9.4"
  }
 },
 "nbformat": 4,
 "nbformat_minor": 5
}
